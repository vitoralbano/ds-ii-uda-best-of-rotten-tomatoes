{
 "cells": [
  {
   "cell_type": "markdown",
   "metadata": {},
   "source": [
    "# Quiz"
   ]
  },
  {
   "cell_type": "code",
   "execution_count": 29,
   "metadata": {},
   "outputs": [],
   "source": [
    "from bs4 import BeautifulSoup\n",
    "from zipfile import ZipFile\n",
    "import glob # just to check files with .html extension\n",
    "import os\n",
    "import pandas as pd"
   ]
  },
  {
   "cell_type": "markdown",
   "metadata": {},
   "source": [
    "# Gathering (Coleta)"
   ]
  },
  {
   "cell_type": "code",
   "execution_count": 40,
   "metadata": {},
   "outputs": [
    {
     "name": "stdout",
     "output_type": "stream",
     "text": [
      "All files was already extracted...\n"
     ]
    }
   ],
   "source": [
    "data_folder = 'data'\n",
    "html_folder = os.path.join(data_folder, 'rt_html')\n",
    "\n",
    "if (os.path.exists(html_folder) and (len(glob.glob1(html_folder, '*.html')) == 100)):\n",
    "    print('All files was already extracted...')\n",
    "else:\n",
    "    if(os.path.exists(f'{html_folder}.zip')):\n",
    "#         Extract all files to the destination folder\n",
    "        with ZipFile(os.path.join(data_folder, 'rt_html.zip'), 'r') as datazip:\n",
    "            datazip.extractall(html_folder)\n",
    "    else:\n",
    "#         Data zip file was not found\n",
    "        print(f'Data zip file wasn\\'t found at {data_folder}')\n",
    "        "
   ]
  },
  {
   "cell_type": "code",
   "execution_count": 81,
   "metadata": {},
   "outputs": [
    {
     "name": "stdout",
     "output_type": "stream",
     "text": [
      "97\n",
      "86\n",
      "89\n",
      "94\n",
      "89\n",
      "95\n",
      "87\n",
      "86\n",
      "91\n",
      "95\n",
      "91\n",
      "92\n",
      "95\n",
      "92\n",
      "90\n",
      "92\n",
      "89\n",
      "78\n",
      "90\n",
      "94\n",
      "94\n",
      "94\n",
      "90\n",
      "94\n",
      "82\n",
      "89\n",
      "85\n",
      "89\n",
      "94\n",
      "81\n",
      "87\n",
      "87\n",
      "90\n",
      "94\n",
      "82\n",
      "72\n",
      "86\n",
      "87\n",
      "98\n",
      "97\n",
      "93\n",
      "88\n",
      "80\n",
      "89\n",
      "88\n",
      "89\n",
      "93\n",
      "90\n",
      "90\n",
      "94\n",
      "92\n",
      "82\n",
      "91\n",
      "86\n",
      "77\n",
      "87\n",
      "95\n",
      "80\n",
      "90\n",
      "94\n",
      "87\n",
      "95\n",
      "92\n",
      "93\n",
      "72\n",
      "94\n",
      "93\n",
      "87\n",
      "94\n",
      "87\n",
      "86\n",
      "97\n",
      "95\n",
      "86\n",
      "93\n",
      "91\n",
      "89\n",
      "95\n",
      "93\n",
      "72\n",
      "95\n",
      "90\n",
      "89\n",
      "91\n",
      "94\n",
      "97\n",
      "86\n",
      "93\n",
      "89\n",
      "88\n",
      "93\n",
      "92\n",
      "86\n",
      "89\n",
      "93\n",
      "90\n",
      "93\n",
      "95\n",
      "90\n",
      "92\n"
     ]
    }
   ],
   "source": [
    "# List of dictionaries to build file by file anda later convert to a DataFrame\n",
    "df_list = []\n",
    "\n",
    "for movie_html in os.listdir(html_folder):\n",
    "    with open(os.path.join(html_folder, movie_html)) as file:\n",
    "        soup = BeautifulSoup(file, 'lxml')\n",
    "        \n",
    "        title = soup.title.contents[0][0:-len(' - Rotten Tomatoes')]\n",
    "        audience_score = int(soup.select('.audience-score.meter')[0].find('span').contents[0][:-1])\n",
    "        num_audience_ratings = soup.\n",
    "        \n",
    "        \n",
    "#         df_list.append({\n",
    "#             'title': soup.title.contents[0],\n",
    "#             'audience_score': soup.audience_score,\n",
    "#             'number_of_audience_ratings': int()\n",
    "#         })\n",
    "        \n",
    "        \n",
    "        print(audience_score)\n",
    "        "
   ]
  }
 ],
 "metadata": {
  "kernelspec": {
   "display_name": "Python 3",
   "language": "python",
   "name": "python3"
  },
  "language_info": {
   "codemirror_mode": {
    "name": "ipython",
    "version": 3
   },
   "file_extension": ".py",
   "mimetype": "text/x-python",
   "name": "python",
   "nbconvert_exporter": "python",
   "pygments_lexer": "ipython3",
   "version": "3.6.8"
  }
 },
 "nbformat": 4,
 "nbformat_minor": 2
}
