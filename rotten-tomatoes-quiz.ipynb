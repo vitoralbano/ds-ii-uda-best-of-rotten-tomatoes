{
 "cells": [
  {
   "cell_type": "markdown",
   "metadata": {},
   "source": [
    "# Quiz"
   ]
  },
  {
   "cell_type": "code",
   "execution_count": null,
   "metadata": {},
   "outputs": [],
   "source": [
    "from bs4 import BeautifulSoup\n",
    "from zipfile import ZipFile\n",
    "import glob # just to check files with .html extension\n",
    "import os\n",
    "import pandas as pd\n",
    "import re"
   ]
  },
  {
   "cell_type": "markdown",
   "metadata": {},
   "source": [
    "# Gathering (Coleta)"
   ]
  },
  {
   "cell_type": "code",
   "execution_count": null,
   "metadata": {},
   "outputs": [],
   "source": [
    "data_folder = 'data'\n",
    "html_folder = os.path.join(data_folder, 'rt_html')\n",
    "\n",
    "if (os.path.exists(html_folder) and (len(glob.glob1(html_folder, '*.html')) == 100)):\n",
    "    print('All files was already extracted...')\n",
    "else:\n",
    "    if(os.path.exists(f'{html_folder}.zip')):\n",
    "#         Extract all files to the destination folder\n",
    "        with ZipFile(os.path.join(data_folder, 'rt_html.zip'), 'r') as datazip:\n",
    "            datazip.extractall(html_folder)\n",
    "    else:\n",
    "#         Data zip file was not found\n",
    "        print(f'Data zip file wasn\\'t found at {data_folder}')\n",
    "        "
   ]
  },
  {
   "cell_type": "code",
   "execution_count": null,
   "metadata": {},
   "outputs": [],
   "source": [
    "# List of dictionaries to build file by file anda later convert to a DataFrame\n",
    "df_list = []\n",
    "\n",
    "for movie_html in os.listdir(html_folder):\n",
    "    with open(os.path.join(html_folder, movie_html)) as file:\n",
    "        soup = BeautifulSoup(file, 'lxml')\n",
    "        \n",
    "        title = soup.title.contents[0][0:-len(' - Rotten Tomatoes')]\n",
    "#         audience_score = soup.select('.audience-score.meter')[0].find('span').contents[0][:-1]\n",
    "        audience_score = soup.find('div', class_='audience-score meter').find('span').contents[0][:-1]\n",
    "#         num_audience_ratings = soup.find('div', 'audience-panel').find_all('div', 'audience-info')[0].find_all('div')[1].contents[2]\n",
    "        num_audience_ratings = soup.find('div', class_='audience-info hidden-xs superPageFontColor')\n",
    "        num_audience_ratings = num_audience_ratings.find_all('div')[1].contents[2].strip().replace(',', '')\n",
    "        \n",
    "        df_list.append({\n",
    "            'title': title,\n",
    "            'audience_score': int(audience_score),\n",
    "            'number_of_audience_ratings': int(num_audience_ratings)\n",
    "        })\n",
    "        \n",
    "df = pd.DataFrame(df_list, columns = ['title', 'audience_score', 'number_of_audience_ratings'])"
   ]
  },
  {
   "cell_type": "code",
   "execution_count": null,
   "metadata": {},
   "outputs": [],
   "source": [
    "df.info()"
   ]
  },
  {
   "cell_type": "markdown",
   "metadata": {},
   "source": [
    "## Solution Test\n",
    "\n",
    "Run the cell below to see if your solution is correct. If an `AssertionError` is thrown, your solution is incorrect. If no error is thrown, your solution is correct.\n",
    "\n",
    "### Disclaimmer:\n",
    "\n",
    "> This assertion check throws an error, although this, after check the .PKL file with the solution, I noticed that apparently that the PKL file does not with the correct encode. The generated dataframe over the HTML files have the same content when compared, but with the right characters encode."
   ]
  },
  {
   "cell_type": "code",
   "execution_count": null,
   "metadata": {},
   "outputs": [],
   "source": [
    "df_solution = pd.read_pickle('df_solution.pkl')\n",
    "df.sort_values('title', inplace = True)\n",
    "df.reset_index(inplace = True, drop = True)\n",
    "df_solution.sort_values('title', inplace = True)\n",
    "df_solution.reset_index(inplace = True, drop = True)\n",
    "pd.testing.assert_frame_equal(df, df_solution)"
   ]
  }
 ],
 "metadata": {
  "kernelspec": {
   "display_name": "Python 3",
   "language": "python",
   "name": "python3"
  },
  "language_info": {
   "codemirror_mode": {
    "name": "ipython",
    "version": 3
   },
   "file_extension": ".py",
   "mimetype": "text/x-python",
   "name": "python",
   "nbconvert_exporter": "python",
   "pygments_lexer": "ipython3",
   "version": "3.6.8"
  }
 },
 "nbformat": 4,
 "nbformat_minor": 2
}
